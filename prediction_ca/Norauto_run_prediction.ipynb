{
 "cells": [
  {
   "cell_type": "code",
   "execution_count": null,
   "id": "sublime-johnston",
   "metadata": {},
   "outputs": [],
   "source": [
    "import pandas as pd\n",
    "import numpy as np\n",
    "import sys\n",
    "import matplotlib.pyplot as plt"
   ]
  },
  {
   "cell_type": "code",
   "execution_count": null,
   "id": "recent-starter",
   "metadata": {},
   "outputs": [],
   "source": [
    "sys.path.insert(0,\"/home/container/notebooks/missions-cways/mobivia-revenue-forecast/mobivia_revenue_forecast/src\")\n",
    "\n",
    "from get_score_params_predict import get_score_params_predict\n",
    "from get_clean_feature_and_ca import get_clean_feature_and_ca\n",
    "from display_curve import display_curve"
   ]
  },
  {
   "cell_type": "markdown",
   "id": "chemical-iceland",
   "metadata": {},
   "source": [
    "# Constantes"
   ]
  },
  {
   "cell_type": "code",
   "execution_count": null,
   "id": "proper-forum",
   "metadata": {},
   "outputs": [],
   "source": [
    "predict_year_list=[2022, 2023]\n",
    "train_year_list=[2000, 2001,2002,2003,2004,2005,2006,2007,2008,2009, 2010, 2011, 2012, 2013, 2014, 2015, 2016,2017,2018, 2019, 2020,2021]\n",
    "to_keep_index_list=[k for k in range(2000, 2024)]#pour l'étape de pré-traitement : toutes les lignes dont on aura besoin\n",
    "\n",
    "growth_rate_bool=False #True pour avoir le modèle en taux de croissance\n",
    "ca_col_str=\"NOR_CA_TOT_ACTU\"\n",
    "\n",
    "SELECTED_VARIABLES=[\n",
    "    \"CONSO_FINALE_MENAGES\",\n",
    "    \"VP610\",\n",
    "    \"IND_PRIX_UTILISATION_VEHICULE\"\n",
    "]"
   ]
  },
  {
   "cell_type": "markdown",
   "id": "capital-lawyer",
   "metadata": {},
   "source": [
    "# Import et pré-traitement"
   ]
  },
  {
   "cell_type": "code",
   "execution_count": null,
   "id": "electric-trailer",
   "metadata": {},
   "outputs": [],
   "source": [
    "file_path = \"/home/container/notebooks/bases/missions-cways/mobivia/mobivia_revenue_forecast/inputs/input_2023/Consolidation_data_all_init_2023_input_notebook.xlsx\""
   ]
  },
  {
   "cell_type": "code",
   "execution_count": null,
   "id": "settled-image",
   "metadata": {},
   "outputs": [],
   "source": [
    "france_pdf = pd.read_excel(open(file_path, 'rb'),sheet_name='France',skiprows=0, index_col = 0)"
   ]
  },
  {
   "cell_type": "code",
   "execution_count": null,
   "id": "intelligent-canberra",
   "metadata": {
    "scrolled": false
   },
   "outputs": [],
   "source": [
    "feature_pdf, ca_pdf=get_clean_feature_and_ca(france_pdf, ca_col_str, to_keep_index_list, growth_rate_bool)"
   ]
  },
  {
   "cell_type": "markdown",
   "id": "illegal-ethiopia",
   "metadata": {},
   "source": [
    "# Prédiction, score, paramètres"
   ]
  },
  {
   "cell_type": "code",
   "execution_count": null,
   "id": "innocent-nightlife",
   "metadata": {},
   "outputs": [],
   "source": [
    "param_dict, score, estimated_serie = get_score_params_predict(feature_pdf[SELECTED_VARIABLES], ca_pdf, [2022, 2023],True)"
   ]
  },
  {
   "cell_type": "code",
   "execution_count": null,
   "id": "expressed-fighter",
   "metadata": {},
   "outputs": [],
   "source": [
    "print(\"score\", score)\n",
    "print(\"params_dict\", param_dict)"
   ]
  },
  {
   "cell_type": "markdown",
   "id": "539cd73e",
   "metadata": {},
   "source": [
    "# Sauvegarde résultats et paramètres du modèle dans \"ouputs\""
   ]
  },
  {
   "cell_type": "code",
   "execution_count": null,
   "id": "6a16b4b2",
   "metadata": {},
   "outputs": [],
   "source": [
    "param_df = pd.DataFrame.from_dict(param_dict, orient='index')\n",
    "param_df.to_excel(\"/home/container/notebooks/bases/missions-cways/mobivia/mobivia_revenue_forecast/outputs/resultats_2023/params_2023_Norauto.xlsx\")\n",
    "param_df.head()"
   ]
  },
  {
   "cell_type": "code",
   "execution_count": null,
   "id": "superb-magnet",
   "metadata": {
    "scrolled": true
   },
   "outputs": [],
   "source": [
    "compare_results_df = pd.DataFrame(\n",
    "    list(zip(ca_pdf.tolist(), estimated_serie)),\n",
    "    columns = ['real_values', 'estimated_values'],\n",
    "    index = ca_pdf.index\n",
    ")\n",
    "\n",
    "compare_results_df.to_excel(\"/home/container/notebooks/bases/missions-cways/mobivia/mobivia_revenue_forecast/outputs/resultats_2023/prev_2023_Norauto.xlsx\")\n",
    "compare_results_df.head(n=50)"
   ]
  },
  {
   "cell_type": "markdown",
   "id": "2e92d814",
   "metadata": {},
   "source": [
    "# Quelques graphs"
   ]
  },
  {
   "cell_type": "code",
   "execution_count": null,
   "id": "charged-family",
   "metadata": {},
   "outputs": [],
   "source": [
    "display_curve(compare_results_df, train_year_list, growth_rate_bool)\n",
    "#résidus négatifs : estimated_value supérieure à real_value\n",
    "#exprimés en % d'écart => fonctionne mal avec les taux de croissances\n",
    "#pour le taux de croissance, il faudrait juste une différence, pas relative"
   ]
  },
  {
   "cell_type": "code",
   "execution_count": null,
   "id": "japanese-newsletter",
   "metadata": {
    "scrolled": true
   },
   "outputs": [],
   "source": [
    "plt.figure(figsize=(12,8))\n",
    "#compare_results_df.drop([2021, 2022], axis=0).plot()\n",
    "compare_results_df.plot()\n",
    "plt.xlabel(\"Année\")\n",
    "plt.ylabel(\"Chiffre d'affaires\")\n",
    "plt.show()"
   ]
  }
 ],
 "metadata": {
  "kernelspec": {
   "display_name": "Python 3",
   "language": "python",
   "name": "python3"
  },
  "language_info": {
   "codemirror_mode": {
    "name": "ipython",
    "version": 3
   },
   "file_extension": ".py",
   "mimetype": "text/x-python",
   "name": "python",
   "nbconvert_exporter": "python",
   "pygments_lexer": "ipython3",
   "version": "3.7.3"
  }
 },
 "nbformat": 4,
 "nbformat_minor": 5
}

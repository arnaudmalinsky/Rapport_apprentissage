{
 "cells": [
  {
   "cell_type": "code",
   "execution_count": null,
   "id": "sublime-johnston",
   "metadata": {},
   "outputs": [],
   "source": [
    "import pandas as pd\n",
    "import numpy as np\n",
    "import sys\n",
    "import matplotlib.pyplot as plt"
   ]
  },
  {
   "cell_type": "code",
   "execution_count": null,
   "id": "recent-starter",
   "metadata": {},
   "outputs": [],
   "source": [
    "sys.path.insert(0,\"/home/container/notebooks/missions-cways/mobivia-revenue-forecast/mobivia_revenue_forecast/src\")\n",
    "\n",
    "#from random_draw_selection_feature import random_draw_selection_feature\n",
    "from get_score_params_predict import get_score_params_predict\n",
    "from evaluate_prediction import evaluate_prediction\n",
    "from evaluate_prediction import evaluate_one_leave_out\n",
    "from get_clean_feature_and_ca import get_clean_feature_and_ca\n",
    "from display_model import display_model\n",
    "from display_curve import display_curve\n",
    "from exhaustive_selection_feature import exhaustive_selection_feature"
   ]
  },
  {
   "cell_type": "markdown",
   "id": "chemical-iceland",
   "metadata": {},
   "source": [
    "# Constantes"
   ]
  },
  {
   "cell_type": "code",
   "execution_count": null,
   "id": "proper-forum",
   "metadata": {},
   "outputs": [],
   "source": [
    "predict_year_list=[2021, 2022]\n",
    "train_year_list=[2000, 2001,2002,2003,2004,2005,2006,2007,2008,2009, 2010, 2011, 2012, 2013, 2014, 2015, 2016,2017,2018, 2019, 2020]\n",
    "to_keep_index_list=[k for k in range(2000, 2023)]#pour l'étape de pré-traitement : toutes les lignes dont on aura besoin\n",
    "variable_number=3\n",
    "#draw_nb=10\n",
    "nb_model_to_select=100\n",
    "growth_rate_bool=False #True pour avoir le modèle en taux de croissance\n",
    "ca_col_str=\"NOR_CA_TOT_ACTU\"\n",
    "\n",
    "GLOBAL_MARKET_VAR_LIST=[\n",
    "    \"REV_DISPO_BRUT\",\n",
    "    \"PA_REV_DISPO_BRUT\",\n",
    "    \"PA_MENAGE\", \n",
    "    \"IND_PRIX_CONSO\",\n",
    "    \"CONSO_FINALE_MENAGES\",\n",
    "    \"PIB\",\n",
    "    \"CHOMAGE\",\n",
    "    \"TX_EPARGNE\",\n",
    "    \"CONF_MENAGES\",\n",
    "    \"ICA\",\n",
    "    \"CA_E_COMMER_INIT\"\n",
    "]\n",
    "\"\"\"AUTO_MARKET_VAR_LIST=[\n",
    "    \"NORAUTO_INVEST_PUB\",\n",
    "    \"VOL_PARC\",\n",
    "    \"VP03\",\n",
    "    \"VP45\",\n",
    "    \"VP67\",\n",
    "    \"VP810\",\n",
    "    \"VP1115\",\n",
    "    \"VP610\",\n",
    "    \"TXVP03\",\n",
    "    \"TXVP45\",\n",
    "    \"TXVP67\",\n",
    "    \"TXVP810\",\n",
    "    \"TXVP1115\",\n",
    "    \"TXVP610\",\n",
    "    \"IMMAT_VN\",\n",
    "    \"IMMAT_VO\"\n",
    "]\"\"\"\n",
    "AUTO_MARKET_VAR_LIST=[\n",
    "    \"TXVP610\",\n",
    "    \"VP610\"\n",
    "]\n",
    "MOBILITY_VAR_LIST=[\n",
    "    \"MODAL_SHARE_VP\",\n",
    "    \"MODAL_SHARE_RAIL\"\n",
    "    \"VP_KM_ANNUEL\",\n",
    "    \"CONSO_CARBURANT\",\n",
    "    \"FREQ_CENTRE_COMMER\",\n",
    "    \"IND_PRIX_UTILISATION_VEHICULE\",\n",
    "    \"PRIX_GASOIL\",\n",
    "    \"ECART_TEMPERATURE\",\n",
    "]\n",
    "\n",
    "#enlever l'année 2000 de l'entrainement si growth rate bool est Vrai"
   ]
  },
  {
   "cell_type": "markdown",
   "id": "capital-lawyer",
   "metadata": {},
   "source": [
    "# Import et pré-traitement"
   ]
  },
  {
   "cell_type": "code",
   "execution_count": null,
   "id": "electric-trailer",
   "metadata": {},
   "outputs": [],
   "source": [
    "file_path = \"/home/container/notebooks/bases/missions-cways/mobivia/mobivia_revenue_forecast/inputs/Consolidation_data_all.xlsx\""
   ]
  },
  {
   "cell_type": "code",
   "execution_count": null,
   "id": "settled-image",
   "metadata": {},
   "outputs": [],
   "source": [
    "france_pdf = pd.read_excel(open(file_path, 'rb'),sheet_name='France',skiprows=5, index_col = 0)"
   ]
  },
  {
   "cell_type": "code",
   "execution_count": null,
   "id": "intelligent-canberra",
   "metadata": {
    "scrolled": false
   },
   "outputs": [],
   "source": [
    "feature_pdf, ca_pdf=get_clean_feature_and_ca(france_pdf, ca_col_str, to_keep_index_list, growth_rate_bool)"
   ]
  },
  {
   "cell_type": "code",
   "execution_count": null,
   "id": "tough-refund",
   "metadata": {
    "scrolled": true
   },
   "outputs": [],
   "source": [
    "predict_year_list=[2021, 2022]\n",
    "Y = ca_pdf.drop(predict_year_list, axis=0)\n",
    "X = feature_pdf.drop(predict_year_list, axis=0)\n",
    "print(X, Y)"
   ]
  },
  {
   "cell_type": "code",
   "execution_count": null,
   "id": "27d3d281",
   "metadata": {},
   "outputs": [],
   "source": [
    "X=X.drop(['ECART_TEMPERATURE','CA_E_COMMER_INIT'], axis=1)"
   ]
  },
  {
   "cell_type": "code",
   "execution_count": null,
   "id": "5beeee21",
   "metadata": {},
   "outputs": [],
   "source": [
    "X"
   ]
  },
  {
   "cell_type": "code",
   "execution_count": null,
   "id": "be4e6cab",
   "metadata": {},
   "outputs": [],
   "source": [
    "from sklearn.feature_selection import SequentialFeatureSelector\n",
    "from sklearn.linear_model import LinearRegression\n",
    "clf=LinearRegression()\n",
    "sfs = SequentialFeatureSelector(clf, n_features_to_select=4)\n",
    "sfs.fit(X, Y)"
   ]
  },
  {
   "cell_type": "code",
   "execution_count": null,
   "id": "e0cdc293",
   "metadata": {},
   "outputs": [],
   "source": [
    "mask=sfs.get_support()"
   ]
  },
  {
   "cell_type": "code",
   "execution_count": null,
   "id": "725176c0",
   "metadata": {},
   "outputs": [],
   "source": [
    "selected_cols=list(mask*X.columns)\n",
    "print(selected_cols)\n",
    "chosen_cols=[]\n",
    "for element in selected_cols:\n",
    "    if element != '':\n",
    "        chosen_cols+=[element]"
   ]
  },
  {
   "cell_type": "code",
   "execution_count": null,
   "id": "f1cd0b8d",
   "metadata": {},
   "outputs": [],
   "source": [
    "chosen_cols"
   ]
  },
  {
   "cell_type": "code",
   "execution_count": null,
   "id": "5b8bee96",
   "metadata": {},
   "outputs": [],
   "source": [
    "X_sel=sfs.transform(X)"
   ]
  },
  {
   "cell_type": "code",
   "execution_count": null,
   "id": "87d0d5d7",
   "metadata": {},
   "outputs": [],
   "source": [
    "X_sel"
   ]
  },
  {
   "cell_type": "code",
   "execution_count": null,
   "id": "ac389149",
   "metadata": {},
   "outputs": [],
   "source": [
    "#chosen_cols=[\"POP\", \"TXVP810\", \"IMMAT_VO\"]"
   ]
  },
  {
   "cell_type": "markdown",
   "id": "illegal-ethiopia",
   "metadata": {},
   "source": [
    "# Prédiction, score, paramètres"
   ]
  },
  {
   "cell_type": "code",
   "execution_count": null,
   "id": "innocent-nightlife",
   "metadata": {},
   "outputs": [],
   "source": [
    "param_dict, score, estimated_serie = get_score_params_predict(feature_pdf[chosen_cols], ca_pdf, [2021, 2022], intercept_bool=True)"
   ]
  },
  {
   "cell_type": "code",
   "execution_count": null,
   "id": "expressed-fighter",
   "metadata": {},
   "outputs": [],
   "source": [
    "print(\"score\", score)\n",
    "print(\"params_dict\", param_dict)"
   ]
  },
  {
   "cell_type": "code",
   "execution_count": null,
   "id": "superb-magnet",
   "metadata": {
    "scrolled": true
   },
   "outputs": [],
   "source": [
    "compare_results_df = pd.DataFrame(\n",
    "    list(zip(ca_pdf.tolist(), estimated_serie)),\n",
    "    columns = ['real_values', 'estimated_values'],\n",
    "    index = ca_pdf.index\n",
    ")\n",
    "\n",
    "print(compare_results_df)"
   ]
  },
  {
   "cell_type": "code",
   "execution_count": null,
   "id": "japanese-newsletter",
   "metadata": {
    "scrolled": true
   },
   "outputs": [],
   "source": [
    "plt.figure(figsize=(12,8))\n",
    "compare_results_df.drop([2021, 2022], axis=0).plot()\n",
    "compare_results_df.plot()\n",
    "plt.xlabel(\"Année\")\n",
    "plt.ylabel(\"Chiffre d'affaires\")\n",
    "plt.show()"
   ]
  },
  {
   "cell_type": "code",
   "execution_count": null,
   "id": "celtic-chamber",
   "metadata": {},
   "outputs": [],
   "source": [
    "from sklearn.linear_model import LinearRegression\n",
    "from sklearn.model_selection import train_test_split\n",
    "\n",
    "from yellowbrick.datasets import load_concrete\n",
    "from yellowbrick.regressor import ResidualsPlot\n",
    "\n",
    "\"\"\"# Load a regression dataset\n",
    "X, y = load_concrete()\n",
    "\n",
    "# Create the train and test data\n",
    "X_train, X_test, y_train, y_test = train_test_split(X, y, test_size=0.2, random_state=42)\"\"\"\n",
    "\n",
    "# Instantiate the linear model and visualizer\n",
    "model = LinearRegression()\n",
    "visualizer = ResidualsPlot(model)\n",
    "X_train=X[chosen_cols]\n",
    "y_train=Y\n",
    "visualizer.fit(X_train, y_train)  # Fit the training data to the visualizer\n",
    "#visualizer.score(X_test, y_test)  # Evaluate the model on the test data\n",
    "visualizer.show()                 # Finalize and render the figure"
   ]
  },
  {
   "cell_type": "code",
   "execution_count": null,
   "id": "trained-galaxy",
   "metadata": {},
   "outputs": [],
   "source": [
    "X_train"
   ]
  },
  {
   "cell_type": "code",
   "execution_count": null,
   "id": "prompt-assistant",
   "metadata": {},
   "outputs": [],
   "source": [
    "visualizer = ResidualsPlot(model, hist=False, qqplot=True)\n",
    "visualizer.fit(X_train, y_train)\n",
    "#visualizer.score(X_test, y_test)\n",
    "visualizer.show()"
   ]
  },
  {
   "cell_type": "code",
   "execution_count": null,
   "id": "consistent-worse",
   "metadata": {
    "scrolled": true
   },
   "outputs": [],
   "source": [
    "import numpy as np\n",
    "import pandas as pd\n",
    "import seaborn as sns\n",
    "import statsmodels.api as sm\n",
    "import matplotlib.pyplot as plt\n",
    "from statsmodels.graphics.gofplots import ProbPlot\n",
    "plt.style.use('seaborn') # pretty matplotlib plots\n",
    "plt.rc('font', size=14)\n",
    "plt.rc('figure', titlesize=18)\n",
    "plt.rc('axes', labelsize=15)\n",
    "plt.rc('axes', titlesize=18)"
   ]
  },
  {
   "cell_type": "code",
   "execution_count": null,
   "id": "funded-healthcare",
   "metadata": {},
   "outputs": [],
   "source": [
    "from sklearn.datasets import load_boston\n",
    "\n",
    "boston = load_boston()\n",
    "\n",
    "X = X_train\n",
    "y = y_train\n",
    "\n",
    "# generate OLS model\n",
    "model = sm.OLS(y, sm.add_constant(X))\n",
    "model_fit = model.fit()\n",
    "\n",
    "# create dataframe from X, y for easier plot handling\n",
    "dataframe = pd.concat([X, y], axis=1)"
   ]
  },
  {
   "cell_type": "code",
   "execution_count": null,
   "id": "passing-scope",
   "metadata": {},
   "outputs": [],
   "source": [
    "# model values\n",
    "model_fitted_y = model_fit.fittedvalues\n",
    "# model residuals\n",
    "model_residuals = model_fit.resid\n",
    "# normalized residuals\n",
    "model_norm_residuals = model_fit.get_influence().resid_studentized_internal\n",
    "# absolute squared normalized residuals\n",
    "model_norm_residuals_abs_sqrt = np.sqrt(np.abs(model_norm_residuals))\n",
    "# absolute residuals\n",
    "model_abs_resid = np.abs(model_residuals)\n",
    "# leverage, from statsmodels internals\n",
    "model_leverage = model_fit.get_influence().hat_matrix_diag\n",
    "# cook's distance, from statsmodels internals\n",
    "model_cooks = model_fit.get_influence().cooks_distance[0]\n",
    "\n",
    "plot_lm_1 = plt.figure()\n",
    "plot_lm_1.axes[0] = sns.residplot(model_fitted_y, dataframe.columns[-1], data=dataframe,\n",
    "                          lowess=True,\n",
    "                          scatter_kws={'alpha': 0.5},\n",
    "                          line_kws={'color': 'red', 'lw': 1, 'alpha': 0.8})\n",
    "\n",
    "plot_lm_1.axes[0].set_title('Residuals vs Fitted')\n",
    "plot_lm_1.axes[0].set_xlabel('Fitted values')\n",
    "plot_lm_1.axes[0].set_ylabel('Residuals');"
   ]
  },
  {
   "cell_type": "code",
   "execution_count": null,
   "id": "purple-kitty",
   "metadata": {},
   "outputs": [],
   "source": [
    "from scipy import stats\n",
    "\n",
    "stats.shapiro(model_residuals)"
   ]
  },
  {
   "cell_type": "code",
   "execution_count": null,
   "id": "e46de8cd",
   "metadata": {},
   "outputs": [],
   "source": [
    "X.to_numpy().shape"
   ]
  },
  {
   "cell_type": "code",
   "execution_count": null,
   "id": "6739ae61",
   "metadata": {},
   "outputs": [],
   "source": [
    "#breuschpagan\n",
    "sm.stats.het_breuschpagan(model_residuals, y)"
   ]
  },
  {
   "cell_type": "code",
   "execution_count": null,
   "id": "2212a8f9",
   "metadata": {},
   "outputs": [],
   "source": []
  }
 ],
 "metadata": {
  "kernelspec": {
   "display_name": "Python 3",
   "language": "python",
   "name": "python3"
  },
  "language_info": {
   "codemirror_mode": {
    "name": "ipython",
    "version": 3
   },
   "file_extension": ".py",
   "mimetype": "text/x-python",
   "name": "python",
   "nbconvert_exporter": "python",
   "pygments_lexer": "ipython3",
   "version": "3.7.3"
  }
 },
 "nbformat": 4,
 "nbformat_minor": 5
}

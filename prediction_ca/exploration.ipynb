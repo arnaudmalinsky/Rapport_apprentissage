{
 "cells": [
  {
   "cell_type": "code",
   "execution_count": null,
   "id": "sublime-johnston",
   "metadata": {},
   "outputs": [],
   "source": [
    "import pandas as pd\n",
    "import numpy as np\n",
    "import sys\n",
    "import matplotlib.pyplot as plt\n",
    "from sklearn.linear_model import LinearRegression\n",
    "\n",
    "#import pingouin as pg"
   ]
  },
  {
   "cell_type": "code",
   "execution_count": null,
   "id": "recent-starter",
   "metadata": {},
   "outputs": [],
   "source": [
    "sys.path.insert(0,\"/home/container/notebooks/missions-cways/mobivia-revenue-forecast/mobivia_revenue_forecast/src\")\n",
    "\n",
    "#from random_draw_selection_feature import random_draw_selection_feature\n",
    "from get_score_params_predict import get_score_params_predict\n",
    "from evaluate_prediction import evaluate_prediction\n",
    "from evaluate_prediction import evaluate_one_leave_out\n",
    "from get_clean_feature_and_ca import get_clean_feature_and_ca\n",
    "from display_model import display_model\n",
    "from display_curve import display_curve\n",
    "from exhaustive_selection_feature import exhaustive_selection_feature"
   ]
  },
  {
   "cell_type": "markdown",
   "id": "chemical-iceland",
   "metadata": {},
   "source": [
    "# Constantes"
   ]
  },
  {
   "cell_type": "code",
   "execution_count": null,
   "id": "proper-forum",
   "metadata": {},
   "outputs": [],
   "source": [
    "predict_year_list=[2021, 2022]\n",
    "train_year_list=[2000, 2001,2002,2003,2004,2005,2006,2007,2008,2009, 2010, 2011, 2012, 2013, 2014, 2015, 2016,2017,2018, 2019, 2020]\n",
    "to_keep_index_list=[k for k in range(2000, 2023)]#pour l'étape de pré-traitement : toutes les lignes dont on aura besoin\n",
    "variable_number=3\n",
    "#draw_nb=10\n",
    "nb_model_to_select=100\n",
    "growth_rate_bool=False #True pour avoir le modèle en taux de croissance\n",
    "ca_col_str=\"NOR_CA_TOT_ACTU\"\n",
    "\n",
    "GLOBAL_MARKET_VAR_LIST=[\n",
    "    \"REV_DISPO_BRUT\",\n",
    "    \"PA_REV_DISPO_BRUT\",\n",
    "    \"PA_MENAGE\", \n",
    "    \"IND_PRIX_CONSO\",\n",
    "    \"CONSO_FINALE_MENAGES\",\n",
    "    \"PIB\",\n",
    "    \"CHOMAGE\",\n",
    "    \"TX_EPARGNE\",\n",
    "    \"CONF_MENAGES\",\n",
    "    \"ICA\",\n",
    "    \"CA_E_COMMER_INIT\"\n",
    "]\n",
    "\"\"\"AUTO_MARKET_VAR_LIST=[\n",
    "    \"NORAUTO_INVEST_PUB\",\n",
    "    \"VOL_PARC\",\n",
    "    \"VP03\",\n",
    "    \"VP45\",\n",
    "    \"VP67\",\n",
    "    \"VP810\",\n",
    "    \"VP1115\",\n",
    "    \"VP610\",\n",
    "    \"TXVP03\",\n",
    "    \"TXVP45\",\n",
    "    \"TXVP67\",\n",
    "    \"TXVP810\",\n",
    "    \"TXVP1115\",\n",
    "    \"TXVP610\",\n",
    "    \"IMMAT_VN\",\n",
    "    \"IMMAT_VO\"\n",
    "]\"\"\"\n",
    "AUTO_MARKET_VAR_LIST=[\n",
    "    \"TXVP610\",\n",
    "    \"VP610\"\n",
    "]\n",
    "MOBILITY_VAR_LIST=[\n",
    "    \"MODAL_SHARE_VP\",\n",
    "    \"MODAL_SHARE_RAIL\"\n",
    "    \"VP_KM_ANNUEL\",\n",
    "    \"CONSO_CARBURANT\",\n",
    "    \"FREQ_CENTRE_COMMER\",\n",
    "    \"IND_PRIX_UTILISATION_VEHICULE\",\n",
    "    \"PRIX_GASOIL\",\n",
    "    \"ECART_TEMPERATURE\",\n",
    "]\n",
    "\n",
    "#enlever l'année 2000 de l'entrainement si growth rate bool est Vrai"
   ]
  },
  {
   "cell_type": "markdown",
   "id": "capital-lawyer",
   "metadata": {},
   "source": [
    "# Import et pré-traitement"
   ]
  },
  {
   "cell_type": "code",
   "execution_count": null,
   "id": "electric-trailer",
   "metadata": {},
   "outputs": [],
   "source": [
    "file_path = \"/home/container/notebooks/bases/missions-cways/mobivia/mobivia_revenue_forecast/inputs/Consolidation_data_all.xlsx\""
   ]
  },
  {
   "cell_type": "code",
   "execution_count": null,
   "id": "settled-image",
   "metadata": {},
   "outputs": [],
   "source": [
    "france_pdf = pd.read_excel(open(file_path, 'rb'),sheet_name='France',skiprows=5, index_col = 0)"
   ]
  },
  {
   "cell_type": "code",
   "execution_count": null,
   "id": "intelligent-canberra",
   "metadata": {
    "scrolled": false
   },
   "outputs": [],
   "source": [
    "feature_pdf, ca_pdf=get_clean_feature_and_ca(france_pdf, ca_col_str, to_keep_index_list, growth_rate_bool)"
   ]
  },
  {
   "cell_type": "code",
   "execution_count": null,
   "id": "tough-refund",
   "metadata": {
    "scrolled": true
   },
   "outputs": [],
   "source": [
    "print(feature_pdf, ca_pdf)"
   ]
  },
  {
   "cell_type": "markdown",
   "id": "d7788ca6",
   "metadata": {},
   "source": [
    "# Visualisation valeurs aberrantes et manquantes"
   ]
  },
  {
   "cell_type": "code",
   "execution_count": null,
   "id": "7c9c6201",
   "metadata": {
    "scrolled": true
   },
   "outputs": [],
   "source": [
    "feature_drop_pdf=feature_pdf.drop(['ETAT_CRISE','ECART_TEMPERATURE','CA_E_COMMER_INIT'], axis=1)\n",
    "lgt=len(feature_drop_pdf.columns)\n",
    "print(feature_drop_pdf.columns, lgt)\n",
    "feature_minus_mean_pdf = feature_drop_pdf.apply(lambda x: x/x.mean(), axis=0)\n",
    "\n",
    "rename_list=[k for k in range(lgt)]\n",
    "k=0\n",
    "for col in feature_drop_pdf.columns:\n",
    "    feature_minus_mean_pdf.rename(columns = {col: rename_list[k]}, inplace=True)\n",
    "    k+=1\n",
    "bxplot=feature_minus_mean_pdf.boxplot()"
   ]
  },
  {
   "cell_type": "markdown",
   "id": "89ee338f",
   "metadata": {},
   "source": [
    "# vérification hypothèses normalité"
   ]
  },
  {
   "cell_type": "code",
   "execution_count": null,
   "id": "26ea3c5a",
   "metadata": {},
   "outputs": [],
   "source": [
    "feature_pdf=feature_drop_pdf"
   ]
  },
  {
   "cell_type": "code",
   "execution_count": null,
   "id": "ffbc4d3d",
   "metadata": {},
   "outputs": [],
   "source": [
    "from scipy import stats\n",
    "#kolmogorov\n",
    "#stats.kstest(feature_pdf, \"norm\")\n",
    "#shapiro\n",
    "feature_pdf.apply(stats.shapiro)"
   ]
  },
  {
   "cell_type": "markdown",
   "id": "f69cbb5e",
   "metadata": {},
   "source": [
    "# vérification hypothèses homoscédasticité"
   ]
  },
  {
   "cell_type": "code",
   "execution_count": null,
   "id": "eae48962",
   "metadata": {},
   "outputs": [],
   "source": [
    "for col in feature_pdf.columns:\n",
    "    stats.levene(feature_pdf[col].to_numpy())"
   ]
  },
  {
   "cell_type": "code",
   "execution_count": null,
   "id": "d566997c",
   "metadata": {},
   "outputs": [],
   "source": [
    "stats.levene(feature_pdf)"
   ]
  },
  {
   "cell_type": "code",
   "execution_count": null,
   "id": "c7e32198",
   "metadata": {},
   "outputs": [],
   "source": [
    "for col in feature_pdf.columns:\n",
    "    print(feature_pdf[col].to_numpy())"
   ]
  },
  {
   "cell_type": "markdown",
   "id": "refined-spencer",
   "metadata": {},
   "source": [
    "# Sélection des meilleures variables"
   ]
  },
  {
   "cell_type": "code",
   "execution_count": null,
   "id": "medical-numbers",
   "metadata": {},
   "outputs": [],
   "source": [
    "best_model_pdf =(\n",
    "    exhaustive_selection_feature(\n",
    "        feature_pdf, \n",
    "        ca_pdf,\n",
    "        train_year_list,\n",
    "        predict_year_list, \n",
    "        variable_number, \n",
    "        nb_model_to_select, \n",
    "        GLOBAL_MARKET_VAR_LIST, \n",
    "        AUTO_MARKET_VAR_LIST,\n",
    "        MOBILITY_VAR_LIST\n",
    "    )\n",
    ")\n",
    "best_model_pdf = best_model_pdf.reset_index(drop=True)"
   ]
  },
  {
   "cell_type": "markdown",
   "id": "downtown-winter",
   "metadata": {},
   "source": [
    "# affichage"
   ]
  },
  {
   "cell_type": "code",
   "execution_count": null,
   "id": "polished-italic",
   "metadata": {},
   "outputs": [],
   "source": [
    "display_pdf = display_model(best_model_pdf, variable_number)"
   ]
  },
  {
   "cell_type": "code",
   "execution_count": null,
   "id": "prime-discovery",
   "metadata": {},
   "outputs": [],
   "source": [
    "display_pdf"
   ]
  },
  {
   "cell_type": "code",
   "execution_count": null,
   "id": "grateful-agency",
   "metadata": {},
   "outputs": [],
   "source": [
    "display_pdf.to_excel(\"/home/container/notebooks/bases/missions-cways/mobivia/mobivia_revenue_forecast/outputs/norauto_best_models.xlsx\")"
   ]
  },
  {
   "cell_type": "markdown",
   "id": "pressed-church",
   "metadata": {},
   "source": [
    "# Tracé de la courbe"
   ]
  },
  {
   "cell_type": "code",
   "execution_count": null,
   "id": "imposed-evans",
   "metadata": {
    "scrolled": true
   },
   "outputs": [],
   "source": [
    "for k in range(nb_model_to_select):\n",
    "    print(\"numéro modèle : \"+str(k))\n",
    "    chosen_cols=list(list(best_model_pdf[\"params_list\"])[k].keys())\n",
    "    param_dict, score, estimated_serie = get_score_params_predict(feature_pdf[chosen_cols], ca_pdf, [2021, 2022], False)\n",
    "    compare_results_df = pd.DataFrame(\n",
    "        list(zip(ca_pdf.tolist(), estimated_serie)),\n",
    "        columns = ['real_values', 'estimated_values'],\n",
    "        index = ca_pdf.index\n",
    "    )\n",
    "    plt.figure(figsize=(12,8))\n",
    "    plt.plot(compare_results_df)\n",
    "    plt.show()\n",
    "    "
   ]
  },
  {
   "cell_type": "markdown",
   "id": "informative-ceremony",
   "metadata": {},
   "source": [
    "# choix du modèle"
   ]
  },
  {
   "cell_type": "code",
   "execution_count": null,
   "id": "extra-consultancy",
   "metadata": {},
   "outputs": [],
   "source": [
    "numero_choisi = 1 #clef du modèle choisi deux cases au dessus\n",
    "chosen_cols=list(list(best_model_pdf[\"params_list\"])[numero_choisi].keys())\n",
    "print(chosen_cols)\n",
    "#chosen_cols=[\"CONSO_FINALE_MENAGES\", \"TXVP03\", \"VP45\"]"
   ]
  },
  {
   "cell_type": "markdown",
   "id": "illegal-ethiopia",
   "metadata": {},
   "source": [
    "# Prédiction, score, paramètres"
   ]
  },
  {
   "cell_type": "code",
   "execution_count": null,
   "id": "innocent-nightlife",
   "metadata": {},
   "outputs": [],
   "source": [
    "param_dict, score, estimated_serie = get_score_params_predict(feature_pdf[chosen_cols], ca_pdf, [2021, 2022], intercept_bool=True)"
   ]
  },
  {
   "cell_type": "code",
   "execution_count": null,
   "id": "expressed-fighter",
   "metadata": {},
   "outputs": [],
   "source": [
    "print(\"score\", score)\n",
    "print(\"params_dict\", param_dict)"
   ]
  },
  {
   "cell_type": "code",
   "execution_count": null,
   "id": "brilliant-bahrain",
   "metadata": {},
   "outputs": [],
   "source": [
    "param_df = pd.DataFrame.from_dict(param_dict, orient='index')\n",
    "param_df.to_excel(\"/home/container/notebooks/bases/missions-cways/mobivia/mobivia_revenue_forecast/outputs/params_ca_norauto_modele\"+str(numero_choisi)+\".xlsx\")\n",
    "param_df.head()"
   ]
  },
  {
   "cell_type": "code",
   "execution_count": null,
   "id": "superb-magnet",
   "metadata": {
    "scrolled": true
   },
   "outputs": [],
   "source": [
    "compare_results_df = pd.DataFrame(\n",
    "    list(zip(ca_pdf.tolist(), estimated_serie)),\n",
    "    columns = ['real_values', 'estimated_values'],\n",
    "    index = ca_pdf.index\n",
    ")\n",
    "\n",
    "compare_results_df.to_excel(\"/home/container/notebooks/bases/missions-cways/mobivia/mobivia_revenue_forecast/outputs/prev_ca_norauto_modele\"+str(numero_choisi)+\".xlsx\")\n",
    "compare_results_df.head(n=50)"
   ]
  },
  {
   "cell_type": "code",
   "execution_count": null,
   "id": "japanese-newsletter",
   "metadata": {
    "scrolled": true
   },
   "outputs": [],
   "source": [
    "plt.figure(figsize=(12,8))\n",
    "#compare_results_df.drop([2021, 2022], axis=0).plot()\n",
    "compare_results_df.plot()\n",
    "plt.xlabel(\"Année\")\n",
    "plt.ylabel(\"Chiffre d'affaires\")\n",
    "plt.show()"
   ]
  },
  {
   "cell_type": "code",
   "execution_count": null,
   "id": "charged-family",
   "metadata": {},
   "outputs": [],
   "source": [
    "compare_results_df=display_curve(compare_results_df, train_year_list, growth_rate_bool)\n",
    "compare_results_df.to_excel(\"/home/container/notebooks/bases/missions-cways/mobivia/mobivia_revenue_forecast/outputs/orev_ca_norauto.xlsx\")\n",
    "#résidus négatifs : estimated_value supérieure à real_value\n",
    "#exprimés en % d'écart => fonctionne mal avec les taux de croissances\n",
    "#pour le taux de croissance, il faudrait juste une différence, pas relative"
   ]
  },
  {
   "cell_type": "code",
   "execution_count": null,
   "id": "celtic-chamber",
   "metadata": {},
   "outputs": [],
   "source": [
    "prediction_score_dict = evaluate_prediction(compare_results_df,predict_year_list)"
   ]
  },
  {
   "cell_type": "code",
   "execution_count": null,
   "id": "trained-galaxy",
   "metadata": {},
   "outputs": [],
   "source": [
    "print(prediction_score_dict)"
   ]
  },
  {
   "cell_type": "code",
   "execution_count": null,
   "id": "prompt-assistant",
   "metadata": {},
   "outputs": [],
   "source": [
    "#le one leave out permet de tester le sur-apprentissage\n",
    "one_leave_out_score_dict, score_moyen = evaluate_one_leave_out(feature_pdf[chosen_cols], ca_pdf, 2000, 2020)"
   ]
  },
  {
   "cell_type": "code",
   "execution_count": null,
   "id": "consistent-worse",
   "metadata": {
    "scrolled": true
   },
   "outputs": [],
   "source": [
    "print(pd.DataFrame.from_dict(one_leave_out_score_dict, orient='index'), \"score_moyen\", score_moyen)"
   ]
  },
  {
   "cell_type": "code",
   "execution_count": null,
   "id": "funded-healthcare",
   "metadata": {},
   "outputs": [],
   "source": []
  },
  {
   "cell_type": "code",
   "execution_count": null,
   "id": "passing-scope",
   "metadata": {},
   "outputs": [],
   "source": []
  },
  {
   "cell_type": "code",
   "execution_count": null,
   "id": "purple-kitty",
   "metadata": {},
   "outputs": [],
   "source": []
  }
 ],
 "metadata": {
  "kernelspec": {
   "display_name": "Python 3",
   "language": "python",
   "name": "python3"
  },
  "language_info": {
   "codemirror_mode": {
    "name": "ipython",
    "version": 3
   },
   "file_extension": ".py",
   "mimetype": "text/x-python",
   "name": "python",
   "nbconvert_exporter": "python",
   "pygments_lexer": "ipython3",
   "version": "3.7.3"
  }
 },
 "nbformat": 4,
 "nbformat_minor": 5
}

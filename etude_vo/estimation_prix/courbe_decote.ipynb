{
 "cells": [
  {
   "cell_type": "code",
   "execution_count": null,
   "id": "1aea641c",
   "metadata": {},
   "outputs": [],
   "source": [
    "import pandas as pd"
   ]
  },
  {
   "cell_type": "code",
   "execution_count": null,
   "id": "85fb25e5",
   "metadata": {},
   "outputs": [],
   "source": [
    "OUPUT_DEPO_PATH = (\n",
    "    \"/home/container/notebooks/bases/missions-cways/credit-moderne-VO/output-lbc-uploader/\"\n",
    ")"
   ]
  },
  {
   "cell_type": "code",
   "execution_count": null,
   "id": "4054b159",
   "metadata": {},
   "outputs": [],
   "source": [
    "france_pdf = pd.read_excel(OUPUT_DEPO_PATH + \"france-intens-tout-km-renault-clio.xlsx\")"
   ]
  },
  {
   "cell_type": "code",
   "execution_count": null,
   "id": "c3bc8571",
   "metadata": {},
   "outputs": [],
   "source": [
    "france_pdf.shape"
   ]
  },
  {
   "cell_type": "code",
   "execution_count": null,
   "id": "6f328db8",
   "metadata": {},
   "outputs": [],
   "source": [
    "#france_pdf.dtypes\n",
    "#france_pdf.isna().sum()"
   ]
  },
  {
   "cell_type": "code",
   "execution_count": null,
   "id": "8099263f",
   "metadata": {},
   "outputs": [],
   "source": [
    "france_pdf = france_pdf[france_pdf[\"price\"]>5000]"
   ]
  },
  {
   "cell_type": "code",
   "execution_count": null,
   "id": "3586b46c",
   "metadata": {},
   "outputs": [],
   "source": [
    "#france_pdf.groupby(\"carburant\").mean()\n",
    "france_pdf[[\"puiss_din\",\"carburant\"]].groupby(\"carburant\").boxplot(subplots=False)"
   ]
  },
  {
   "cell_type": "code",
   "execution_count": null,
   "id": "5128b8e6",
   "metadata": {},
   "outputs": [],
   "source": [
    "france_10km_pdf = france_pdf[france_pdf[\"kilometrage\"]==10]"
   ]
  },
  {
   "cell_type": "code",
   "execution_count": null,
   "id": "8d0dee57",
   "metadata": {},
   "outputs": [],
   "source": [
    "france_10km_pdf.shape"
   ]
  },
  {
   "cell_type": "code",
   "execution_count": null,
   "id": "f339acbc",
   "metadata": {},
   "outputs": [],
   "source": [
    "france_10km_pdf[[\"price\"]].boxplot()#Pas forcément les enlever mais faire une cat à part"
   ]
  },
  {
   "cell_type": "code",
   "execution_count": null,
   "id": "40a1156f",
   "metadata": {},
   "outputs": [],
   "source": [
    "france_pdf[[\"kilometrage\"]].boxplot()"
   ]
  },
  {
   "cell_type": "code",
   "execution_count": null,
   "id": "a56f0b5f",
   "metadata": {},
   "outputs": [],
   "source": [
    "france_pdf = france_pdf[france_pdf[\"kilometrage\"]<=100000]"
   ]
  },
  {
   "cell_type": "code",
   "execution_count": null,
   "id": "b1d7893f",
   "metadata": {},
   "outputs": [],
   "source": [
    "france_pdf[[\"kilometrage\"]].boxplot()"
   ]
  },
  {
   "cell_type": "code",
   "execution_count": null,
   "id": "035893c9",
   "metadata": {},
   "outputs": [],
   "source": [
    "bins1 = pd.IntervalIndex.from_tuples([\n",
    "    (0, 100), \n",
    "    (100, 10000), \n",
    "    (10000, 20000),\n",
    "    (20000, 30000),\n",
    "    (30000, 40000),\n",
    "    (40000, 50000),\n",
    "    (50000, 60000),\n",
    "    (60000, 70000),\n",
    "    (70000, 80000),\n",
    "])"
   ]
  },
  {
   "cell_type": "code",
   "execution_count": null,
   "id": "6237a27a",
   "metadata": {},
   "outputs": [],
   "source": [
    "france_pdf[\"km_cat\"]=pd.cut(france_pdf[\"kilometrage\"], bins1,labels=[0,1,2,3,4,5,6,7,8], ordered=False)\n",
    "france_pdf[\"km_cat\"] = france_pdf[\"km_cat\"].astype('string')"
   ]
  },
  {
   "cell_type": "code",
   "execution_count": null,
   "id": "ffa2a65a",
   "metadata": {},
   "outputs": [],
   "source": [
    "bins2 = pd.IntervalIndex.from_tuples([\n",
    "    (0, 100), \n",
    "    (100, 20000),\n",
    "    (20000, 40000),\n",
    "    (40000, 60000),\n",
    "    (60000, 80000),\n",
    "    (80000, 100000)\n",
    "])"
   ]
  },
  {
   "cell_type": "code",
   "execution_count": null,
   "id": "6e2f41d8",
   "metadata": {},
   "outputs": [],
   "source": [
    "france_pdf[\"km_cat2\"]=pd.cut(france_pdf[\"kilometrage\"], bins2,labels=[0,1,2,3,4,5,6,7,8], ordered=False)\n",
    "france_pdf[\"km_cat2\"] = france_pdf[\"km_cat2\"].astype('string')"
   ]
  },
  {
   "cell_type": "code",
   "execution_count": null,
   "id": "e97ebc0e",
   "metadata": {},
   "outputs": [],
   "source": [
    "#france_pdf.groupby(\"carburant\").mean()\n",
    "france_pdf[[\"puiss_din\",\"km_cat\"]].sort_values(by=[\"km_cat\"]).groupby(\"km_cat\").boxplot(subplots=False)"
   ]
  },
  {
   "cell_type": "code",
   "execution_count": null,
   "id": "f3fef2ae",
   "metadata": {},
   "outputs": [],
   "source": [
    "france_pdf[[\"km_cat\",\"kilometrage\"]].sort_values(by=[\"km_cat\"])"
   ]
  },
  {
   "cell_type": "code",
   "execution_count": null,
   "id": "d088718d",
   "metadata": {},
   "outputs": [],
   "source": [
    "france_pdf[[\"km_cat\"]].sort_values(by=[\"km_cat\"]).drop_duplicates()"
   ]
  },
  {
   "cell_type": "code",
   "execution_count": null,
   "id": "0e28ca7c",
   "metadata": {
    "scrolled": true
   },
   "outputs": [],
   "source": [
    "france_pdf[[\"km_cat\",\"price\"]].sort_values(by=[\"km_cat\"]).groupby(\"km_cat\").boxplot(subplots=False)"
   ]
  },
  {
   "cell_type": "code",
   "execution_count": null,
   "id": "b9ada181",
   "metadata": {
    "scrolled": true
   },
   "outputs": [],
   "source": [
    "france_pdf[[\"km_cat\",\"price\", \"puiss_din\"]].sort_values(by=[\"km_cat\"]).groupby(\"km_cat\").mean()#l'output que l'on veut (split carburant)"
   ]
  },
  {
   "cell_type": "code",
   "execution_count": null,
   "id": "4b1e5ade",
   "metadata": {},
   "outputs": [],
   "source": [
    "france_pdf = france_pdf[france_pdf[\"puiss_din\"]==90]"
   ]
  },
  {
   "cell_type": "code",
   "execution_count": null,
   "id": "952636a3",
   "metadata": {},
   "outputs": [],
   "source": [
    "france_pdf.shape"
   ]
  },
  {
   "cell_type": "code",
   "execution_count": null,
   "id": "a47f0810",
   "metadata": {
    "scrolled": true
   },
   "outputs": [],
   "source": [
    "france_pdf[[\"km_cat\",\"price\"]].sort_values(by=[\"km_cat\"]).groupby(\"km_cat\").median()"
   ]
  },
  {
   "cell_type": "code",
   "execution_count": null,
   "id": "8695f1b2",
   "metadata": {},
   "outputs": [],
   "source": [
    "france_pdf[[\"km_cat\",\"price\"]].sort_values(by=[\"km_cat\"]).groupby(\"km_cat\").boxplot(subplots=False)"
   ]
  },
  {
   "cell_type": "code",
   "execution_count": null,
   "id": "7f2ef290",
   "metadata": {},
   "outputs": [],
   "source": [
    "france_pdf[[\"km_cat2\",\"price\"]].sort_values(by=[\"km_cat2\"]).groupby(\"km_cat2\").boxplot(subplots=False)"
   ]
  },
  {
   "cell_type": "code",
   "execution_count": null,
   "id": "3d08c2db",
   "metadata": {},
   "outputs": [],
   "source": [
    "france_pdf[france_pdf[\"annee_modele\"]==2018].groupby([\"km_cat2\",\"carburant\"]).count()"
   ]
  },
  {
   "cell_type": "code",
   "execution_count": null,
   "id": "9aa00aa9",
   "metadata": {},
   "outputs": [],
   "source": [
    "france_pdf.groupby([\"km_cat\",\"carburant\"]).count()"
   ]
  },
  {
   "cell_type": "code",
   "execution_count": null,
   "id": "34ef9066",
   "metadata": {},
   "outputs": [],
   "source": [
    "france_pdf.groupby([\"annee_modele\",\"carburant\"]).count()"
   ]
  },
  {
   "cell_type": "code",
   "execution_count": null,
   "id": "40f991ee",
   "metadata": {},
   "outputs": [],
   "source": [
    "france_pdf[[\"annee_modele\"]].boxplot()"
   ]
  },
  {
   "cell_type": "code",
   "execution_count": null,
   "id": "965e011c",
   "metadata": {},
   "outputs": [],
   "source": [
    "france_pdf[france_pdf[\"annee_modele\"]==2020].groupby([\"km_cat\",\"carburant\"]).count()"
   ]
  },
  {
   "cell_type": "code",
   "execution_count": null,
   "id": "71bf3aa6",
   "metadata": {},
   "outputs": [],
   "source": [
    "france_pdf[france_pdf[\"annee_modele\"]==2019].groupby([\"km_cat\",\"carburant\"]).count()"
   ]
  },
  {
   "cell_type": "code",
   "execution_count": null,
   "id": "9f70bb89",
   "metadata": {},
   "outputs": [],
   "source": [
    "france_pdf[france_pdf[\"annee_modele\"]==2018].groupby([\"km_cat\",\"carburant\"]).count()"
   ]
  },
  {
   "cell_type": "code",
   "execution_count": null,
   "id": "caa94b9a",
   "metadata": {},
   "outputs": [],
   "source": [
    "france_pdf[france_pdf[\"annee_modele\"]==2018].groupby([\"km_cat\",\"carburant\"]).mean()"
   ]
  },
  {
   "cell_type": "markdown",
   "id": "da6fdf72",
   "metadata": {},
   "source": [
    "# SORTIES"
   ]
  },
  {
   "cell_type": "markdown",
   "id": "59f2f210",
   "metadata": {},
   "source": [
    "## en fonction du kilométrage, en 2018, 9 tranches, 90ch"
   ]
  },
  {
   "cell_type": "code",
   "execution_count": null,
   "id": "ca62bd5c",
   "metadata": {},
   "outputs": [],
   "source": [
    "km_2018_9cat_pdf = france_pdf[france_pdf[\"annee_modele\"]==2018].groupby([\"km_cat\",\"carburant\"]) \\\n",
    "       .agg(count=('Unnamed: 0', 'size'), mean_price=('price', 'mean')) \\\n",
    "       .reset_index()"
   ]
  },
  {
   "cell_type": "code",
   "execution_count": null,
   "id": "f27d1793",
   "metadata": {},
   "outputs": [],
   "source": [
    "km_2018_9cat_pdf"
   ]
  },
  {
   "cell_type": "code",
   "execution_count": null,
   "id": "e6163a12",
   "metadata": {},
   "outputs": [],
   "source": [
    "#km_2018_9cat_pdf.to_csv(\"results/intens-2018-kmcat9-90ch.csv\")"
   ]
  },
  {
   "cell_type": "markdown",
   "id": "a01b2c5b",
   "metadata": {},
   "source": [
    "## en fonction du kilométrage, en 2018, 5 tranches, 90ch"
   ]
  },
  {
   "cell_type": "code",
   "execution_count": null,
   "id": "5a5773af",
   "metadata": {},
   "outputs": [],
   "source": [
    "km_2018_5cat_pdf = france_pdf[france_pdf[\"annee_modele\"]==2018].groupby([\"km_cat2\",\"carburant\"]) \\\n",
    "       .agg(count=('Unnamed: 0', 'size'), mean_price=('price', 'mean')) \\\n",
    "       .reset_index()"
   ]
  },
  {
   "cell_type": "code",
   "execution_count": null,
   "id": "ac5098b0",
   "metadata": {},
   "outputs": [],
   "source": [
    "km_2018_5cat_pdf # rappel : essence => 1 ; diesel =>2"
   ]
  },
  {
   "cell_type": "code",
   "execution_count": null,
   "id": "47fec6df",
   "metadata": {},
   "outputs": [],
   "source": [
    "#km_2018_5cat_pdf.to_csv(\"results/intens-2018-kmcat5-90ch.csv\")"
   ]
  },
  {
   "cell_type": "markdown",
   "id": "f7e14e18",
   "metadata": {},
   "source": [
    "## en fonction du kilométrage, toute annee, 9 tranches, 90ch"
   ]
  },
  {
   "cell_type": "code",
   "execution_count": null,
   "id": "0fc6dca6",
   "metadata": {},
   "outputs": [],
   "source": [
    "km_toute_an_9cat_pdf = france_pdf.groupby([\"km_cat\",\"carburant\"]) \\\n",
    "       .agg(count=('Unnamed: 0', 'size'), mean_price=('price', 'mean')) \\\n",
    "       .reset_index()"
   ]
  },
  {
   "cell_type": "code",
   "execution_count": null,
   "id": "c5025915",
   "metadata": {},
   "outputs": [],
   "source": [
    "#km_toute_an_9cat_pdf.to_csv(\"results/intens-toute-annee-kmcat9-90ch.csv\")"
   ]
  },
  {
   "cell_type": "markdown",
   "id": "7e9708f6",
   "metadata": {},
   "source": [
    "## par annee 90ch"
   ]
  },
  {
   "cell_type": "code",
   "execution_count": null,
   "id": "7ea4ad11",
   "metadata": {},
   "outputs": [],
   "source": [
    "par_an_pdf = france_pdf.groupby([\"annee_modele\",\"carburant\"]) \\\n",
    "       .agg(count=('Unnamed: 0', 'size'), mean_price=('price', 'mean')) \\\n",
    "       .reset_index()"
   ]
  },
  {
   "cell_type": "code",
   "execution_count": null,
   "id": "78daf09e",
   "metadata": {},
   "outputs": [],
   "source": [
    "par_an_pdf"
   ]
  },
  {
   "cell_type": "code",
   "execution_count": null,
   "id": "90e5afa7",
   "metadata": {},
   "outputs": [],
   "source": [
    "#par_an_pdf.to_csv(\"results/intens-par-an-90ch.csv\")"
   ]
  },
  {
   "cell_type": "markdown",
   "id": "149ead43",
   "metadata": {},
   "source": [
    "## pour comp DOM"
   ]
  },
  {
   "cell_type": "markdown",
   "id": "09489671",
   "metadata": {},
   "source": [
    "## en fonction du kilométrage, en 2018, 5 tranches, tout ch, tout carb"
   ]
  },
  {
   "cell_type": "code",
   "execution_count": null,
   "id": "13899537",
   "metadata": {},
   "outputs": [],
   "source": [
    "km_2018_5cat_tout_ch_tout_carb_pdf = france_pdf[france_pdf[\"annee_modele\"]==2018].groupby([\"km_cat2\"]) \\\n",
    "       .agg(count=('Unnamed: 0', 'size'), mean_price=('price', 'mean')) \\\n",
    "       .reset_index()"
   ]
  },
  {
   "cell_type": "code",
   "execution_count": null,
   "id": "494af68d",
   "metadata": {},
   "outputs": [],
   "source": [
    "# km_2018_5cat_tout_ch_tout_carb_pdf.to_csv(\"results/intens-2018-kmcat5-toutch-toutcarb.csv\")"
   ]
  },
  {
   "cell_type": "markdown",
   "id": "59e34ff0",
   "metadata": {},
   "source": [
    "## en fonction du kilométrage, toute annee, 5 tranches, tout ch, tout carb"
   ]
  },
  {
   "cell_type": "code",
   "execution_count": null,
   "id": "b2fd0b05",
   "metadata": {},
   "outputs": [],
   "source": [
    "km_toute_an_5cat_pdf = france_pdf.groupby([\"km_cat2\"]) \\\n",
    "       .agg(count=('Unnamed: 0', 'size'), mean_price=('price', 'mean')) \\\n",
    "       .reset_index()"
   ]
  },
  {
   "cell_type": "code",
   "execution_count": null,
   "id": "b1692db4",
   "metadata": {},
   "outputs": [],
   "source": [
    "# km_toute_an_5cat_pdf.to_csv(\"results/intens-toute-annee-kmcat5-toutch-toutcarb.csv\")"
   ]
  },
  {
   "cell_type": "markdown",
   "id": "ef430759",
   "metadata": {},
   "source": [
    "## par annee tout ch tout carb"
   ]
  },
  {
   "cell_type": "code",
   "execution_count": null,
   "id": "0c632b80",
   "metadata": {},
   "outputs": [],
   "source": [
    "par_an_toutch_toutcarb_pdf = france_pdf.groupby([\"annee_modele\"]) \\\n",
    "       .agg(count=('Unnamed: 0', 'size'), mean_price=('price', 'mean')) \\\n",
    "       .reset_index()"
   ]
  },
  {
   "cell_type": "code",
   "execution_count": null,
   "id": "fd0fd254",
   "metadata": {},
   "outputs": [],
   "source": [
    "# par_an_toutch_toutcarb_pdf.to_csv(\"results/intens-par-an-toutch-toutcarb.csv\")"
   ]
  }
 ],
 "metadata": {
  "kernelspec": {
   "display_name": "Python 3",
   "language": "python",
   "name": "python3"
  },
  "language_info": {
   "codemirror_mode": {
    "name": "ipython",
    "version": 3
   },
   "file_extension": ".py",
   "mimetype": "text/x-python",
   "name": "python",
   "nbconvert_exporter": "python",
   "pygments_lexer": "ipython3",
   "version": "3.7.3"
  }
 },
 "nbformat": 4,
 "nbformat_minor": 5
}

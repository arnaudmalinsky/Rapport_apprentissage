{
 "cells": [
  {
   "cell_type": "code",
   "execution_count": null,
   "id": "e9444881",
   "metadata": {},
   "outputs": [],
   "source": [
    "import pandas as pd\n",
    "import matplotlib.pyplot as plt"
   ]
  },
  {
   "cell_type": "code",
   "execution_count": null,
   "id": "38ced676",
   "metadata": {},
   "outputs": [],
   "source": [
    "OUPUT_DEPO_PATH = (\n",
    "    \"/home/container/notebooks/bases/missions-cways/credit-moderne-VO/output-lbc-uploader/\"\n",
    ")"
   ]
  },
  {
   "cell_type": "code",
   "execution_count": null,
   "id": "3c533a85",
   "metadata": {},
   "outputs": [],
   "source": [
    "france_pdf = pd.read_excel(OUPUT_DEPO_PATH + \"france-intens-renault-clio.xlsx\")"
   ]
  },
  {
   "cell_type": "code",
   "execution_count": null,
   "id": "6fdfe896",
   "metadata": {},
   "outputs": [],
   "source": [
    "france_pdf.shape"
   ]
  },
  {
   "cell_type": "code",
   "execution_count": null,
   "id": "e01d53eb",
   "metadata": {},
   "outputs": [],
   "source": [
    "#france_pdf = france_pdf[france_pdf[\"annee_modele\"]>2010]"
   ]
  },
  {
   "cell_type": "code",
   "execution_count": null,
   "id": "2d12123b",
   "metadata": {
    "scrolled": true
   },
   "outputs": [],
   "source": [
    "france_pdf.dtypes"
   ]
  },
  {
   "cell_type": "code",
   "execution_count": null,
   "id": "b1ada9dc",
   "metadata": {},
   "outputs": [],
   "source": [
    "france_pdf.describe()"
   ]
  },
  {
   "cell_type": "code",
   "execution_count": null,
   "id": "01027f69",
   "metadata": {
    "scrolled": true
   },
   "outputs": [],
   "source": [
    "france_pdf.isna().sum()\n",
    "#peu de valeurs manquantes"
   ]
  },
  {
   "cell_type": "code",
   "execution_count": null,
   "id": "f3b22cd0",
   "metadata": {},
   "outputs": [],
   "source": [
    "plt.scatter(france_pdf[\"Unnamed: 0\"],france_pdf[\"first_publication_date\"])\n",
    "plt.show()"
   ]
  },
  {
   "cell_type": "raw",
   "id": "6a516c21",
   "metadata": {},
   "source": [
    "seulement 16 annonces avant le mois de juin (vieilles de plus de 3 mois)"
   ]
  },
  {
   "cell_type": "code",
   "execution_count": null,
   "id": "9045ec35",
   "metadata": {},
   "outputs": [],
   "source": [
    "france_pdf[[\"price\"]].boxplot()"
   ]
  },
  {
   "cell_type": "raw",
   "id": "f1033252",
   "metadata": {},
   "source": [
    "Celle a plus de 13000 ne sont pas aberrantes, mais l'on peut considérer qu'lle sont trop chers par rapport au marché. \n",
    "Ou alors elles sont vendues avec garantie\n",
    "\n",
    "Il faudrait aussi filtrer sur la puissance din (35 valeurs manqyuantes sur 210 véhicules)"
   ]
  },
  {
   "cell_type": "code",
   "execution_count": null,
   "id": "8db35a05",
   "metadata": {},
   "outputs": [],
   "source": [
    "france_pdf[[\"puiss_din\"]].boxplot()"
   ]
  },
  {
   "cell_type": "raw",
   "id": "af6d8ba0",
   "metadata": {},
   "source": [
    "elles sont toutes pareil quasiment, 90 ch"
   ]
  },
  {
   "cell_type": "code",
   "execution_count": null,
   "id": "b5365030",
   "metadata": {},
   "outputs": [],
   "source": [
    "france_pdf = france_pdf[france_pdf[\"puiss_din\"]==90]"
   ]
  },
  {
   "cell_type": "code",
   "execution_count": null,
   "id": "d4a72452",
   "metadata": {},
   "outputs": [],
   "source": [
    "france_pdf.shape"
   ]
  },
  {
   "cell_type": "code",
   "execution_count": null,
   "id": "2f98c1e8",
   "metadata": {},
   "outputs": [],
   "source": [
    "france_pdf[[\"price\"]].boxplot()"
   ]
  },
  {
   "cell_type": "raw",
   "id": "dfa6ea20",
   "metadata": {},
   "source": [
    "si l'on prend la médiane ça ira"
   ]
  },
  {
   "cell_type": "code",
   "execution_count": null,
   "id": "ddbdebe8",
   "metadata": {},
   "outputs": [],
   "source": [
    "france_pdf[[\"price\"]].mean()"
   ]
  },
  {
   "cell_type": "code",
   "execution_count": null,
   "id": "a67af0b4",
   "metadata": {},
   "outputs": [],
   "source": [
    "france_pdf[[\"price\"]].std()"
   ]
  },
  {
   "cell_type": "code",
   "execution_count": null,
   "id": "0017563d",
   "metadata": {},
   "outputs": [],
   "source": [
    "france_pdf[[\"price\"]].median()"
   ]
  },
  {
   "cell_type": "raw",
   "id": "eea18337",
   "metadata": {},
   "source": [
    "l'écart type monte quand même à 10% de la moyenne\n",
    "\n",
    "on peut réduire la fourchette de kilométrage aussi"
   ]
  },
  {
   "cell_type": "code",
   "execution_count": null,
   "id": "9f912e1b",
   "metadata": {},
   "outputs": [],
   "source": [
    "france_pdf[[\"kilometrage\"]].boxplot()#bcp entre 50 et 60 000"
   ]
  },
  {
   "cell_type": "code",
   "execution_count": null,
   "id": "db69e0ac",
   "metadata": {},
   "outputs": [],
   "source": [
    "france_pdf=france_pdf[france_pdf[\"kilometrage\"]<=70000]\n",
    "france_pdf=france_pdf[france_pdf[\"kilometrage\"]>=60000]"
   ]
  },
  {
   "cell_type": "code",
   "execution_count": null,
   "id": "fb61d934",
   "metadata": {},
   "outputs": [],
   "source": [
    "france_pdf[[\"price\"]].boxplot()"
   ]
  },
  {
   "cell_type": "code",
   "execution_count": null,
   "id": "e98ccd23",
   "metadata": {},
   "outputs": [],
   "source": [
    "# france_pdf = france_pdf[france_pdf[\"price\"]>9000]\n",
    "# france_pdf = france_pdf[france_pdf[\"price\"]<13000]"
   ]
  },
  {
   "cell_type": "code",
   "execution_count": null,
   "id": "dff9e1f6",
   "metadata": {},
   "outputs": [],
   "source": [
    "france_pdf[[\"price\"]].boxplot()"
   ]
  },
  {
   "cell_type": "code",
   "execution_count": null,
   "id": "84a3dd98",
   "metadata": {},
   "outputs": [],
   "source": [
    "france_pdf.shape #65 entre 50 et 60000"
   ]
  },
  {
   "cell_type": "code",
   "execution_count": null,
   "id": "46a3fd07",
   "metadata": {
    "scrolled": true
   },
   "outputs": [],
   "source": [
    "france_pdf[[\"price\"]].mean()"
   ]
  },
  {
   "cell_type": "code",
   "execution_count": null,
   "id": "06be4957",
   "metadata": {},
   "outputs": [],
   "source": [
    "france_pdf[[\"price\"]].std()"
   ]
  },
  {
   "cell_type": "code",
   "execution_count": null,
   "id": "0fd34fb8",
   "metadata": {},
   "outputs": [],
   "source": [
    "france_pdf[[\"price\"]].median()"
   ]
  },
  {
   "cell_type": "raw",
   "id": "c5bafd43",
   "metadata": {},
   "source": [
    "On a réussi à bien faire baisser l'écart type (7.5% de la moyenne maintenant)"
   ]
  },
  {
   "cell_type": "raw",
   "id": "d1e178bc",
   "metadata": {},
   "source": [
    "manque mois et annee de mise en circulation pour concordance parfaite avec largus"
   ]
  },
  {
   "cell_type": "code",
   "execution_count": null,
   "id": "b6a2dea6",
   "metadata": {},
   "outputs": [],
   "source": [
    "france_pdf[[\"annee_modele\"]].boxplot()"
   ]
  },
  {
   "cell_type": "code",
   "execution_count": null,
   "id": "14216853",
   "metadata": {},
   "outputs": [],
   "source": [
    "france_pdf = france_pdf[france_pdf[\"annee_modele\"]==2018]\n",
    "#france_pdf = france_pdf[france_pdf[\"annee_modele\"]==2018]\n",
    "#plus en 2018 (13 vs 32 pour 50-60 000) mais cela s'inverse pour le diesel (plus de véhicule mis en circulation en 2017)\n",
    "#plus en 2018 sur 60-70 000 (16vs13) Parce que les essences sont plus jeunes"
   ]
  },
  {
   "cell_type": "code",
   "execution_count": null,
   "id": "3ba9fbe8",
   "metadata": {},
   "outputs": [],
   "source": [
    "france_pdf.shape"
   ]
  },
  {
   "cell_type": "code",
   "execution_count": null,
   "id": "f50fb48b",
   "metadata": {},
   "outputs": [],
   "source": [
    "france_pdf[[\"price\"]].boxplot()"
   ]
  },
  {
   "cell_type": "code",
   "execution_count": null,
   "id": "57846f51",
   "metadata": {
    "scrolled": true
   },
   "outputs": [],
   "source": [
    "france_pdf[[\"price\"]].mean()"
   ]
  },
  {
   "cell_type": "code",
   "execution_count": null,
   "id": "d8e914a4",
   "metadata": {},
   "outputs": [],
   "source": [
    "france_pdf[[\"price\"]].std()#7% de la moyenne"
   ]
  },
  {
   "cell_type": "code",
   "execution_count": null,
   "id": "1310a703",
   "metadata": {},
   "outputs": [],
   "source": [
    "france_pdf[[\"price\"]].median()"
   ]
  },
  {
   "cell_type": "raw",
   "id": "b9551196",
   "metadata": {},
   "source": [
    "Rappel des caractéristiques :\n",
    "    Clio 4 intens\n",
    "    60 - 70 000km\n",
    "    boite manuelle\n",
    "    5 portes\n",
    "    90 ch\n",
    "    pas estate\n",
    "    pas \"véhicule société\" (à élucider)\n",
    "    essence\n",
    "    mise en circulation en 2018 (clio 4 phase 2)"
   ]
  },
  {
   "cell_type": "code",
   "execution_count": null,
   "id": "4a35f11f",
   "metadata": {},
   "outputs": [],
   "source": [
    "# date des annonces"
   ]
  },
  {
   "cell_type": "code",
   "execution_count": null,
   "id": "1b272000",
   "metadata": {},
   "outputs": [],
   "source": [
    "plt.scatter(france_pdf[\"Unnamed: 0\"],france_pdf[\"first_publication_date\"])\n",
    "plt.show()"
   ]
  },
  {
   "cell_type": "raw",
   "id": "c04e5099",
   "metadata": {},
   "source": [
    "Celle de 2020 a pas l'air absurde, elle est à 10 800 euros, je pense que la personne a oublié de la supprimer"
   ]
  },
  {
   "cell_type": "code",
   "execution_count": null,
   "id": "8fe83998",
   "metadata": {},
   "outputs": [],
   "source": [
    "#on peut s'arrêter à cette estimation, mais il faut noter les hypothèses que j'ai faites"
   ]
  },
  {
   "cell_type": "raw",
   "id": "ae7c60ac",
   "metadata": {},
   "source": [
    "NOTES NETTOYAGE :\n",
    "- Certaines clio intens sont spéciales (\"GT line\" par exemple), il y en a peu et elles font parfois plus de 90 ch\n",
    "- Les \"garanties\" font surement monter le prix\n",
    "- les \"voiture société\" ont été enlevée : J'ai l'impression que c'est pour de la vente au société (pour les pièces, les épaves, les voitures endommagé => il faut enlever)\n",
    "- Les clio estate étaient bien estampillées \"break\", j'ai gardé seulement citadine et berline\n",
    "- doublons ?"
   ]
  },
  {
   "cell_type": "raw",
   "id": "7130f03f",
   "metadata": {},
   "source": [
    "Il faudrait pareil sur le diesel\n",
    "séparer pro et particuliers : essayer d'avoir 2 moyennes"
   ]
  },
  {
   "cell_type": "code",
   "execution_count": null,
   "id": "3ef2352f",
   "metadata": {},
   "outputs": [],
   "source": [
    "france_pdf.groupby(\"owner_type\").count()"
   ]
  }
 ],
 "metadata": {
  "kernelspec": {
   "display_name": "Python 3",
   "language": "python",
   "name": "python3"
  },
  "language_info": {
   "codemirror_mode": {
    "name": "ipython",
    "version": 3
   },
   "file_extension": ".py",
   "mimetype": "text/x-python",
   "name": "python",
   "nbconvert_exporter": "python",
   "pygments_lexer": "ipython3",
   "version": "3.7.3"
  }
 },
 "nbformat": 4,
 "nbformat_minor": 5
}
